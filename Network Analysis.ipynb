{
 "cells": [
  {
   "cell_type": "code",
   "execution_count": 1,
   "metadata": {},
   "outputs": [
    {
     "ename": "SyntaxError",
     "evalue": "invalid syntax (<ipython-input-1-3984914e9e87>, line 2)",
     "output_type": "error",
     "traceback": [
      "\u001b[0;36m  File \u001b[0;32m\"<ipython-input-1-3984914e9e87>\"\u001b[0;36m, line \u001b[0;32m2\u001b[0m\n\u001b[0;31m    pip install netwulf\u001b[0m\n\u001b[0m              ^\u001b[0m\n\u001b[0;31mSyntaxError\u001b[0m\u001b[0;31m:\u001b[0m invalid syntax\n"
     ]
    }
   ],
   "source": [
    "# Run code below to install interactive network visualization tool. Skip if already installed.\n",
    "pip install netwulf"
   ]
  },
  {
   "cell_type": "code",
   "execution_count": 2,
   "metadata": {},
   "outputs": [],
   "source": [
    "import seaborn as sns\n",
    "import matplotlib.pyplot as plt\n",
    "import numpy as np\n",
    "import pandas as pd\n",
    "\n",
    "from collections import Counter\n",
    "\n",
    "import networkx as nx\n",
    "from netwulf import visualize\n",
    "\n",
    "# import the data set, August 2019 NiceRide data\n",
    "df = pd.read_csv('/Users/no50free/GitHub/NiceRide/201908-niceride-tripdata.csv')\n"
   ]
  },
  {
   "cell_type": "code",
   "execution_count": 3,
   "metadata": {},
   "outputs": [],
   "source": [
    "# Initialize graph\n",
    "G = nx.Graph()"
   ]
  },
  {
   "cell_type": "code",
   "execution_count": 4,
   "metadata": {},
   "outputs": [],
   "source": [
    "# It was confirmed that the set of start stations equals the set of end stations.\n",
    "\n",
    "stations=df['start station name'].dropna().unique().tolist()\n",
    "\n",
    "G.add_nodes_from(stations)"
   ]
  },
  {
   "cell_type": "code",
   "execution_count": 5,
   "metadata": {},
   "outputs": [],
   "source": [
    "edges = df[['start station name', 'end station name']]\n",
    "edges=edges.values.tolist()\n",
    "# Remove NaN's\n",
    "edges=[edge for edge in edges if (str(edge[0])!='nan' and str(edge[1])!='nan')]\n",
    "edges=[set(edge) for edge in edges]\n",
    "\n",
    "# Counts station pairs, undirected\n",
    "edge_weights=Counter([tuple(set(i)) for i in edges])\n",
    "\n",
    "# Formats edges_final, to be used to add weighted edges to graph\n",
    "edges_final =[]\n",
    "for key in edge_weights.keys():\n",
    "    edges_final.append( tuple(list(key) + [edge_weights[key]]))\n",
    "\n",
    "for edge in edges_final:\n",
    "    if len(edge)>2: # Remove instances of start and end stations being the same.\n",
    "        G.add_edge(edge[0], edge[1], weight=edge[2])\n"
   ]
  },
  {
   "cell_type": "code",
   "execution_count": 6,
   "metadata": {},
   "outputs": [
    {
     "data": {
      "text/plain": [
       "(None, None)"
      ]
     },
     "execution_count": 6,
     "metadata": {},
     "output_type": "execute_result"
    }
   ],
   "source": [
    "visualize(G)"
   ]
  },
  {
   "cell_type": "code",
   "execution_count": null,
   "metadata": {},
   "outputs": [],
   "source": []
  }
 ],
 "metadata": {
  "kernelspec": {
   "display_name": "geo_env",
   "language": "python",
   "name": "geo_env"
  },
  "language_info": {
   "codemirror_mode": {
    "name": "ipython",
    "version": 3
   },
   "file_extension": ".py",
   "mimetype": "text/x-python",
   "name": "python",
   "nbconvert_exporter": "python",
   "pygments_lexer": "ipython3",
   "version": "3.7.6"
  }
 },
 "nbformat": 4,
 "nbformat_minor": 4
}
