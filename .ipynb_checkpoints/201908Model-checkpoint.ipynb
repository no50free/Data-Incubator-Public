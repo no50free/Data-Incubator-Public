{
 "cells": [
  {
   "cell_type": "code",
   "execution_count": 1,
   "metadata": {},
   "outputs": [],
   "source": [
    "import seaborn as sns\n",
    "import matplotlib as mpl\n",
    "import matplotlib.pyplot as plt\n",
    "import numpy as np\n",
    "import pandas as pd\n",
    "import geopandas as gpd\n",
    "from shapely.geometry import Point, Polygon\n",
    "\n",
    "import json # library to handle JSON files\n",
    "\n",
    "# import the data set\n",
    "df = pd.read_csv('/Users/no50free/GitHub/NiceRide/201908-niceride-tripdata.csv')"
   ]
  },
  {
   "cell_type": "code",
   "execution_count": 2,
   "metadata": {},
   "outputs": [
    {
     "data": {
      "text/html": [
       "<div>\n",
       "<style scoped>\n",
       "    .dataframe tbody tr th:only-of-type {\n",
       "        vertical-align: middle;\n",
       "    }\n",
       "\n",
       "    .dataframe tbody tr th {\n",
       "        vertical-align: top;\n",
       "    }\n",
       "\n",
       "    .dataframe thead th {\n",
       "        text-align: right;\n",
       "    }\n",
       "</style>\n",
       "<table border=\"1\" class=\"dataframe\">\n",
       "  <thead>\n",
       "    <tr style=\"text-align: right;\">\n",
       "      <th></th>\n",
       "      <th>tripduration</th>\n",
       "      <th>start_time</th>\n",
       "      <th>end_time</th>\n",
       "      <th>start station id</th>\n",
       "      <th>start station name</th>\n",
       "      <th>start station latitude</th>\n",
       "      <th>start station longitude</th>\n",
       "      <th>end station id</th>\n",
       "      <th>end station name</th>\n",
       "      <th>end station latitude</th>\n",
       "      <th>end station longitude</th>\n",
       "      <th>bikeid</th>\n",
       "      <th>usertype</th>\n",
       "      <th>birth year</th>\n",
       "      <th>gender</th>\n",
       "      <th>bike type</th>\n",
       "    </tr>\n",
       "  </thead>\n",
       "  <tbody>\n",
       "    <tr>\n",
       "      <th>0</th>\n",
       "      <td>811</td>\n",
       "      <td>2019-08-01 00:00:44.8830</td>\n",
       "      <td>2019-08-01 00:14:16.2140</td>\n",
       "      <td>191.0</td>\n",
       "      <td>Park Ave &amp; 4th Street S</td>\n",
       "      <td>44.975907</td>\n",
       "      <td>-93.260061</td>\n",
       "      <td>198.0</td>\n",
       "      <td>5th Street NE &amp; 3rd Ave NE</td>\n",
       "      <td>44.991914</td>\n",
       "      <td>-93.255799</td>\n",
       "      <td>262</td>\n",
       "      <td>Subscriber</td>\n",
       "      <td>1991</td>\n",
       "      <td>2</td>\n",
       "      <td>Classic</td>\n",
       "    </tr>\n",
       "    <tr>\n",
       "      <th>1</th>\n",
       "      <td>99</td>\n",
       "      <td>2019-08-01 00:00:48.1090</td>\n",
       "      <td>2019-08-01 00:02:27.5170</td>\n",
       "      <td>43.0</td>\n",
       "      <td>Nicollet Mall &amp; 10th Street</td>\n",
       "      <td>44.973839</td>\n",
       "      <td>-93.274544</td>\n",
       "      <td>8.0</td>\n",
       "      <td>YWCA Downtown</td>\n",
       "      <td>44.972217</td>\n",
       "      <td>-93.276435</td>\n",
       "      <td>477</td>\n",
       "      <td>Subscriber</td>\n",
       "      <td>1990</td>\n",
       "      <td>2</td>\n",
       "      <td>Classic</td>\n",
       "    </tr>\n",
       "    <tr>\n",
       "      <th>2</th>\n",
       "      <td>1205</td>\n",
       "      <td>2019-08-01 00:02:34.2950</td>\n",
       "      <td>2019-08-01 00:22:39.7020</td>\n",
       "      <td>69.0</td>\n",
       "      <td>N Washington Ave &amp; 9th Ave N</td>\n",
       "      <td>44.989909</td>\n",
       "      <td>-93.279788</td>\n",
       "      <td>199.0</td>\n",
       "      <td>3rd Street NE &amp; Lowry Ave NE</td>\n",
       "      <td>45.013040</td>\n",
       "      <td>-93.264573</td>\n",
       "      <td>24</td>\n",
       "      <td>Customer</td>\n",
       "      <td>1994</td>\n",
       "      <td>1</td>\n",
       "      <td>Classic</td>\n",
       "    </tr>\n",
       "  </tbody>\n",
       "</table>\n",
       "</div>"
      ],
      "text/plain": [
       "   tripduration                start_time                  end_time  \\\n",
       "0           811  2019-08-01 00:00:44.8830  2019-08-01 00:14:16.2140   \n",
       "1            99  2019-08-01 00:00:48.1090  2019-08-01 00:02:27.5170   \n",
       "2          1205  2019-08-01 00:02:34.2950  2019-08-01 00:22:39.7020   \n",
       "\n",
       "   start station id            start station name  start station latitude  \\\n",
       "0             191.0       Park Ave & 4th Street S               44.975907   \n",
       "1              43.0   Nicollet Mall & 10th Street               44.973839   \n",
       "2              69.0  N Washington Ave & 9th Ave N               44.989909   \n",
       "\n",
       "   start station longitude  end station id              end station name  \\\n",
       "0               -93.260061           198.0    5th Street NE & 3rd Ave NE   \n",
       "1               -93.274544             8.0                 YWCA Downtown   \n",
       "2               -93.279788           199.0  3rd Street NE & Lowry Ave NE   \n",
       "\n",
       "   end station latitude  end station longitude  bikeid    usertype  \\\n",
       "0             44.991914             -93.255799     262  Subscriber   \n",
       "1             44.972217             -93.276435     477  Subscriber   \n",
       "2             45.013040             -93.264573      24    Customer   \n",
       "\n",
       "   birth year  gender bike type  \n",
       "0        1991       2   Classic  \n",
       "1        1990       2   Classic  \n",
       "2        1994       1   Classic  "
      ]
     },
     "execution_count": 2,
     "metadata": {},
     "output_type": "execute_result"
    }
   ],
   "source": [
    "df.head(3)"
   ]
  },
  {
   "cell_type": "markdown",
   "metadata": {},
   "source": [
    "# Convert time"
   ]
  },
  {
   "cell_type": "code",
   "execution_count": 3,
   "metadata": {},
   "outputs": [],
   "source": [
    "df['start_time'] = pd.to_datetime(df['start_time'])\n",
    "df['end_time'] = pd.to_datetime(df['end_time'])\n",
    "\n",
    "# Add start hour\n",
    "df['start_hour'] = df['start_time'].dt.hour\n",
    "\n",
    "# Add day of week\n",
    "df['startdayofweek'] = df['start_time'].dt.dayofweek\n",
    "df['enddayofweek'] = df['end_time'].dt.dayofweek\n",
    "\n",
    "# Convert tripduration to minutes instead of seconds\n",
    "df.tripduration = df.tripduration/60"
   ]
  },
  {
   "cell_type": "code",
   "execution_count": 4,
   "metadata": {},
   "outputs": [
    {
     "data": {
      "text/html": [
       "<div>\n",
       "<style scoped>\n",
       "    .dataframe tbody tr th:only-of-type {\n",
       "        vertical-align: middle;\n",
       "    }\n",
       "\n",
       "    .dataframe tbody tr th {\n",
       "        vertical-align: top;\n",
       "    }\n",
       "\n",
       "    .dataframe thead th {\n",
       "        text-align: right;\n",
       "    }\n",
       "</style>\n",
       "<table border=\"1\" class=\"dataframe\">\n",
       "  <thead>\n",
       "    <tr style=\"text-align: right;\">\n",
       "      <th></th>\n",
       "      <th>tripduration</th>\n",
       "      <th>start_time</th>\n",
       "      <th>end_time</th>\n",
       "      <th>start station id</th>\n",
       "      <th>start station name</th>\n",
       "      <th>start station latitude</th>\n",
       "      <th>start station longitude</th>\n",
       "      <th>end station id</th>\n",
       "      <th>end station name</th>\n",
       "      <th>end station latitude</th>\n",
       "      <th>end station longitude</th>\n",
       "      <th>bikeid</th>\n",
       "      <th>usertype</th>\n",
       "      <th>birth year</th>\n",
       "      <th>gender</th>\n",
       "      <th>bike type</th>\n",
       "      <th>start_hour</th>\n",
       "      <th>startdayofweek</th>\n",
       "      <th>enddayofweek</th>\n",
       "    </tr>\n",
       "  </thead>\n",
       "  <tbody>\n",
       "    <tr>\n",
       "      <th>42118</th>\n",
       "      <td>24.850000</td>\n",
       "      <td>2019-08-18 13:52:16.214</td>\n",
       "      <td>2019-08-18 14:17:07.682</td>\n",
       "      <td>NaN</td>\n",
       "      <td>NaN</td>\n",
       "      <td>44.990000</td>\n",
       "      <td>-93.270000</td>\n",
       "      <td>NaN</td>\n",
       "      <td>NaN</td>\n",
       "      <td>44.98000</td>\n",
       "      <td>-93.240000</td>\n",
       "      <td>2614</td>\n",
       "      <td>Subscriber</td>\n",
       "      <td>1993</td>\n",
       "      <td>2</td>\n",
       "      <td>Dockless</td>\n",
       "      <td>13</td>\n",
       "      <td>6</td>\n",
       "      <td>6</td>\n",
       "    </tr>\n",
       "    <tr>\n",
       "      <th>50365</th>\n",
       "      <td>4.266667</td>\n",
       "      <td>2019-08-21 21:12:37.077</td>\n",
       "      <td>2019-08-21 21:16:53.374</td>\n",
       "      <td>214.0</td>\n",
       "      <td>Mill City Quarter</td>\n",
       "      <td>44.980500</td>\n",
       "      <td>-93.261800</td>\n",
       "      <td>167.0</td>\n",
       "      <td>11th Ave S &amp; S 2nd Street</td>\n",
       "      <td>44.97622</td>\n",
       "      <td>-93.251977</td>\n",
       "      <td>1924</td>\n",
       "      <td>Subscriber</td>\n",
       "      <td>1966</td>\n",
       "      <td>2</td>\n",
       "      <td>Classic</td>\n",
       "      <td>21</td>\n",
       "      <td>2</td>\n",
       "      <td>2</td>\n",
       "    </tr>\n",
       "    <tr>\n",
       "      <th>55867</th>\n",
       "      <td>9.950000</td>\n",
       "      <td>2019-08-24 11:14:53.223</td>\n",
       "      <td>2019-08-24 11:24:50.925</td>\n",
       "      <td>148.0</td>\n",
       "      <td>Chicago Ave &amp; S Washington Ave</td>\n",
       "      <td>44.977424</td>\n",
       "      <td>-93.256765</td>\n",
       "      <td>91.0</td>\n",
       "      <td>Grant Street &amp; Portland Ave</td>\n",
       "      <td>44.96954</td>\n",
       "      <td>-93.266900</td>\n",
       "      <td>142</td>\n",
       "      <td>Subscriber</td>\n",
       "      <td>1959</td>\n",
       "      <td>1</td>\n",
       "      <td>Classic</td>\n",
       "      <td>11</td>\n",
       "      <td>5</td>\n",
       "      <td>5</td>\n",
       "    </tr>\n",
       "  </tbody>\n",
       "</table>\n",
       "</div>"
      ],
      "text/plain": [
       "       tripduration              start_time                end_time  \\\n",
       "42118     24.850000 2019-08-18 13:52:16.214 2019-08-18 14:17:07.682   \n",
       "50365      4.266667 2019-08-21 21:12:37.077 2019-08-21 21:16:53.374   \n",
       "55867      9.950000 2019-08-24 11:14:53.223 2019-08-24 11:24:50.925   \n",
       "\n",
       "       start station id              start station name  \\\n",
       "42118               NaN                             NaN   \n",
       "50365             214.0               Mill City Quarter   \n",
       "55867             148.0  Chicago Ave & S Washington Ave   \n",
       "\n",
       "       start station latitude  start station longitude  end station id  \\\n",
       "42118               44.990000               -93.270000             NaN   \n",
       "50365               44.980500               -93.261800           167.0   \n",
       "55867               44.977424               -93.256765            91.0   \n",
       "\n",
       "                  end station name  end station latitude  \\\n",
       "42118                          NaN              44.98000   \n",
       "50365    11th Ave S & S 2nd Street              44.97622   \n",
       "55867  Grant Street & Portland Ave              44.96954   \n",
       "\n",
       "       end station longitude  bikeid    usertype  birth year  gender  \\\n",
       "42118             -93.240000    2614  Subscriber        1993       2   \n",
       "50365             -93.251977    1924  Subscriber        1966       2   \n",
       "55867             -93.266900     142  Subscriber        1959       1   \n",
       "\n",
       "      bike type  start_hour  startdayofweek  enddayofweek  \n",
       "42118  Dockless          13               6             6  \n",
       "50365   Classic          21               2             2  \n",
       "55867   Classic          11               5             5  "
      ]
     },
     "execution_count": 4,
     "metadata": {},
     "output_type": "execute_result"
    }
   ],
   "source": [
    "df.sample(3)"
   ]
  },
  {
   "cell_type": "code",
   "execution_count": 5,
   "metadata": {},
   "outputs": [
    {
     "data": {
      "text/html": [
       "<div>\n",
       "<style scoped>\n",
       "    .dataframe tbody tr th:only-of-type {\n",
       "        vertical-align: middle;\n",
       "    }\n",
       "\n",
       "    .dataframe tbody tr th {\n",
       "        vertical-align: top;\n",
       "    }\n",
       "\n",
       "    .dataframe thead th {\n",
       "        text-align: right;\n",
       "    }\n",
       "</style>\n",
       "<table border=\"1\" class=\"dataframe\">\n",
       "  <thead>\n",
       "    <tr style=\"text-align: right;\">\n",
       "      <th></th>\n",
       "      <th>tripduration</th>\n",
       "      <th>start_time</th>\n",
       "      <th>end_time</th>\n",
       "      <th>start station id</th>\n",
       "      <th>start station name</th>\n",
       "      <th>start station latitude</th>\n",
       "      <th>start station longitude</th>\n",
       "      <th>end station id</th>\n",
       "      <th>end station name</th>\n",
       "      <th>end station latitude</th>\n",
       "      <th>end station longitude</th>\n",
       "      <th>bikeid</th>\n",
       "      <th>usertype</th>\n",
       "      <th>birth year</th>\n",
       "      <th>gender</th>\n",
       "      <th>bike type</th>\n",
       "      <th>start_hour</th>\n",
       "      <th>startdayofweek</th>\n",
       "      <th>enddayofweek</th>\n",
       "      <th>long_trip</th>\n",
       "    </tr>\n",
       "  </thead>\n",
       "  <tbody>\n",
       "    <tr>\n",
       "      <th>22851</th>\n",
       "      <td>15.116667</td>\n",
       "      <td>2019-08-09 18:10:16.558</td>\n",
       "      <td>2019-08-09 18:25:24.377</td>\n",
       "      <td>24.0</td>\n",
       "      <td>26th Street &amp; Lyndale</td>\n",
       "      <td>44.955654</td>\n",
       "      <td>-93.288485</td>\n",
       "      <td>807.0</td>\n",
       "      <td>W Lake of the Isles Pkwy &amp; W 21st Street</td>\n",
       "      <td>44.961347</td>\n",
       "      <td>-93.304648</td>\n",
       "      <td>1173</td>\n",
       "      <td>Customer</td>\n",
       "      <td>1969</td>\n",
       "      <td>0</td>\n",
       "      <td>Classic</td>\n",
       "      <td>18</td>\n",
       "      <td>4</td>\n",
       "      <td>4</td>\n",
       "      <td>False</td>\n",
       "    </tr>\n",
       "    <tr>\n",
       "      <th>39289</th>\n",
       "      <td>13.200000</td>\n",
       "      <td>2019-08-17 12:42:17.725</td>\n",
       "      <td>2019-08-17 12:55:30.141</td>\n",
       "      <td>NaN</td>\n",
       "      <td>NaN</td>\n",
       "      <td>44.990000</td>\n",
       "      <td>-93.260000</td>\n",
       "      <td>NaN</td>\n",
       "      <td>NaN</td>\n",
       "      <td>44.990000</td>\n",
       "      <td>-93.280000</td>\n",
       "      <td>2753</td>\n",
       "      <td>Subscriber</td>\n",
       "      <td>1987</td>\n",
       "      <td>2</td>\n",
       "      <td>Dockless</td>\n",
       "      <td>12</td>\n",
       "      <td>5</td>\n",
       "      <td>5</td>\n",
       "      <td>False</td>\n",
       "    </tr>\n",
       "    <tr>\n",
       "      <th>37973</th>\n",
       "      <td>18.416667</td>\n",
       "      <td>2019-08-16 20:37:24.014</td>\n",
       "      <td>2019-08-16 20:55:49.153</td>\n",
       "      <td>NaN</td>\n",
       "      <td>NaN</td>\n",
       "      <td>45.020000</td>\n",
       "      <td>-93.220000</td>\n",
       "      <td>NaN</td>\n",
       "      <td>NaN</td>\n",
       "      <td>44.990000</td>\n",
       "      <td>-93.240000</td>\n",
       "      <td>2087</td>\n",
       "      <td>Subscriber</td>\n",
       "      <td>1983</td>\n",
       "      <td>1</td>\n",
       "      <td>Dockless</td>\n",
       "      <td>20</td>\n",
       "      <td>4</td>\n",
       "      <td>4</td>\n",
       "      <td>False</td>\n",
       "    </tr>\n",
       "  </tbody>\n",
       "</table>\n",
       "</div>"
      ],
      "text/plain": [
       "       tripduration              start_time                end_time  \\\n",
       "22851     15.116667 2019-08-09 18:10:16.558 2019-08-09 18:25:24.377   \n",
       "39289     13.200000 2019-08-17 12:42:17.725 2019-08-17 12:55:30.141   \n",
       "37973     18.416667 2019-08-16 20:37:24.014 2019-08-16 20:55:49.153   \n",
       "\n",
       "       start station id     start station name  start station latitude  \\\n",
       "22851              24.0  26th Street & Lyndale               44.955654   \n",
       "39289               NaN                    NaN               44.990000   \n",
       "37973               NaN                    NaN               45.020000   \n",
       "\n",
       "       start station longitude  end station id  \\\n",
       "22851               -93.288485           807.0   \n",
       "39289               -93.260000             NaN   \n",
       "37973               -93.220000             NaN   \n",
       "\n",
       "                               end station name  end station latitude  \\\n",
       "22851  W Lake of the Isles Pkwy & W 21st Street             44.961347   \n",
       "39289                                       NaN             44.990000   \n",
       "37973                                       NaN             44.990000   \n",
       "\n",
       "       end station longitude  bikeid    usertype  birth year  gender  \\\n",
       "22851             -93.304648    1173    Customer        1969       0   \n",
       "39289             -93.280000    2753  Subscriber        1987       2   \n",
       "37973             -93.240000    2087  Subscriber        1983       1   \n",
       "\n",
       "      bike type  start_hour  startdayofweek  enddayofweek  long_trip  \n",
       "22851   Classic          18               4             4      False  \n",
       "39289  Dockless          12               5             5      False  \n",
       "37973  Dockless          20               4             4      False  "
      ]
     },
     "execution_count": 5,
     "metadata": {},
     "output_type": "execute_result"
    }
   ],
   "source": [
    "# Long trips defined as longer than 2 hours.\n",
    "# \n",
    "df[\"long_trip\"] = df.tripduration > 120\n",
    "df.sample(3)"
   ]
  },
  {
   "cell_type": "code",
   "execution_count": 12,
   "metadata": {},
   "outputs": [
    {
     "name": "stdout",
     "output_type": "stream",
     "text": [
      "(72641, 19)\n",
      "(70255, 19)\n"
     ]
    }
   ],
   "source": [
    "# Remove long trips, i.e. trips longer than 2 hours.\n",
    "print(df.shape)\n",
    "df = df[df.tripduration < 120]\n",
    "print(df.shape)"
   ]
  },
  {
   "cell_type": "markdown",
   "metadata": {},
   "source": [
    "# Convert latitudes and longitudes and add distances"
   ]
  },
  {
   "cell_type": "code",
   "execution_count": 11,
   "metadata": {},
   "outputs": [],
   "source": [
    "# Converts from lat/lon to local rectangular coordinate system\n",
    "from pyproj import Transformer\n",
    "\n",
    "# 4326 is lat/lon. 3596 is local Twin cities.\n",
    "transformer = Transformer.from_crs('epsg:4326', 'epsg:3596')\n",
    "\n",
    "# Use as below:\n",
    "# outx, outy = transformer.transform(lat, long)\n",
    "# Note that lat, long is entered, but x,y is output (axis switch)\n"
   ]
  },
  {
   "cell_type": "code",
   "execution_count": 39,
   "metadata": {},
   "outputs": [],
   "source": [
    "# Initialize columns\n",
    "df['start station x'] = np.zeros(len(df))\n",
    "df['start station y'] = np.zeros(len(df))\n",
    "df['end station x'] = np.zeros(len(df))\n",
    "df['end station y'] = np.zeros(len(df))\n",
    "# Convert lat lon values\n",
    "for j in range(len(df)):\n",
    "    df.loc[j,'start station x'] = transformer.transform(df.loc[j,'start station latitude'], df.loc[j,'start station longitude'])[0]\n",
    "    df.loc[j,'start station y'] = transformer.transform(df.loc[j,'start station latitude'], df.loc[j,'start station longitude'])[1]\n",
    "    df.loc[j,'end station x'] = transformer.transform(df.loc[j,'end station latitude'], df.loc[j,'end station longitude'])[0]\n",
    "    df.loc[j,'end station y'] = transformer.transform(df.loc[j,'end station latitude'], df.loc[j,'end station longitude'])[1]"
   ]
  },
  {
   "cell_type": "code",
   "execution_count": 50,
   "metadata": {},
   "outputs": [
    {
     "data": {
      "text/plain": [
       "<matplotlib.axes._subplots.AxesSubplot at 0x1a204f0e10>"
      ]
     },
     "execution_count": 50,
     "metadata": {},
     "output_type": "execute_result"
    },
    {
     "data": {
      "image/png": "[encoded data removed]",
      "text/plain": [
       "<Figure size 432x288 with 1 Axes>"
      ]
     },
     "metadata": {
      "needs_background": "light"
     },
     "output_type": "display_data"
    }
   ],
   "source": [
    "# Scatterplot of station locations and dockless bike 'locations'\n",
    "sns.scatterplot(x=df['start station x'],y=df['start station y'], hue=df['bike type'])"
   ]
  },
  {
   "cell_type": "code",
   "execution_count": 51,
   "metadata": {},
   "outputs": [],
   "source": [
    "# create distance function\n",
    "def dist(x1,y1,x2,y2):\n",
    "    return np.sqrt((x1-x2)**2 + (y1-y2)**2)\n",
    "\n",
    "# Create distance between stations column\n",
    "df['station_distance']=np.zeros(len(df))\n",
    "for j in range(len(df)):\n",
    "    df.loc[j,'station_distance'] = dist(df.loc[j,'start station x'], df.loc[j,'start station y'], df.loc[j,'end station x'], df.loc[j,'end station y'])"
   ]
  },
  {
   "cell_type": "code",
   "execution_count": 59,
   "metadata": {},
   "outputs": [
    {
     "data": {
      "text/plain": [
       "<matplotlib.axes._subplots.AxesSubplot at 0x1a2032ab90>"
      ]
     },
     "execution_count": 59,
     "metadata": {},
     "output_type": "execute_result"
    },
    {
     "data": {
      "image/png": "[encoded data removed]",
      "text/plain": [
       "<Figure size 432x288 with 1 Axes>"
      ]
     },
     "metadata": {
      "needs_background": "light"
     },
     "output_type": "display_data"
    }
   ],
   "source": [
    "sns.scatterplot(x='station_distance', y='tripduration', hue='bike type', data=df[ df['station_distance']<12500])"
   ]
  },
  {
   "cell_type": "markdown",
   "metadata": {},
   "source": [
    "# Take out NRM Bike Shop 1 instances\n",
    "This appears to be a repair shop, not an actual destination."
   ]
  },
  {
   "cell_type": "code",
   "execution_count": 65,
   "metadata": {},
   "outputs": [
    {
     "name": "stdout",
     "output_type": "stream",
     "text": [
      "(72639, 24)\n",
      "(72535, 24)\n"
     ]
    }
   ],
   "source": [
    "print(df.shape)\n",
    "df = df[df['end station name']!='NRM Bike Shop 1']\n",
    "print(df.shape)"
   ]
  },
  {
   "cell_type": "code",
   "execution_count": 75,
   "metadata": {},
   "outputs": [
    {
     "data": {
      "text/plain": [
       "<matplotlib.axes._subplots.AxesSubplot at 0x1a1ee32f90>"
      ]
     },
     "execution_count": 75,
     "metadata": {},
     "output_type": "execute_result"
    },
    {
     "data": {
      "image/png": "[encoded data removed]",
      "text/plain": [
       "<Figure size 432x288 with 1 Axes>"
      ]
     },
     "metadata": {
      "needs_background": "light"
     },
     "output_type": "display_data"
    }
   ],
   "source": [
    "condition1 = df['tripduration']<90\n",
    "condition2 = df['station_distance']<10000\n",
    "condition =condition1 & condition2\n",
    "sns.regplot(x='station_distance', y='tripduration', data=df[ condition], color = 'red')"
   ]
  },
  {
   "cell_type": "code",
   "execution_count": 78,
   "metadata": {},
   "outputs": [
    {
     "data": {
      "text/plain": [
       "(14009, 24)"
      ]
     },
     "execution_count": 78,
     "metadata": {},
     "output_type": "execute_result"
    }
   ],
   "source": [
    "df[df['station_distance']==0].shape"
   ]
  },
  {
   "cell_type": "markdown",
   "metadata": {},
   "source": [
    "# Problem statement\n",
    "We want to see if we can predict if a customer will ride a bike longer than 30 minutes. After 30 minutes, additional charges apply. We created a `long_trip` feature for trips longer than 30 minutes (True).\n",
    "\n",
    "## Feature selection.\n",
    "We have a small issue that `Dockless` bikes do not have start/end stations. For the moment, I am going to restrict my attention to the `Classic` `bike type`.\n",
    "\n",
    "The features I will use are `start_hour`, `start station latitude`, `start station longitude`, `end station latitude`, `end station longitude`, `usertype`, `birth year`, `gender`, `startdayofweek`. The response variable will be `long_trip`."
   ]
  },
  {
   "cell_type": "markdown",
   "metadata": {},
   "source": [
    "# Alternate problem statement\n",
    "After removing long (2 hours) trips, can we use regression to predict tripduration?"
   ]
  },
  {
   "cell_type": "code",
   "execution_count": 13,
   "metadata": {},
   "outputs": [
    {
     "data": {
      "text/html": [
       "<div>\n",
       "<style scoped>\n",
       "    .dataframe tbody tr th:only-of-type {\n",
       "        vertical-align: middle;\n",
       "    }\n",
       "\n",
       "    .dataframe tbody tr th {\n",
       "        vertical-align: top;\n",
       "    }\n",
       "\n",
       "    .dataframe thead th {\n",
       "        text-align: right;\n",
       "    }\n",
       "</style>\n",
       "<table border=\"1\" class=\"dataframe\">\n",
       "  <thead>\n",
       "    <tr style=\"text-align: right;\">\n",
       "      <th></th>\n",
       "      <th>start_hour</th>\n",
       "      <th>start station latitude</th>\n",
       "      <th>start station longitude</th>\n",
       "      <th>end station latitude</th>\n",
       "      <th>end station longitude</th>\n",
       "      <th>usertype</th>\n",
       "      <th>birth year</th>\n",
       "      <th>gender</th>\n",
       "      <th>startdayofweek</th>\n",
       "    </tr>\n",
       "  </thead>\n",
       "  <tbody>\n",
       "    <tr>\n",
       "      <th>45940</th>\n",
       "      <td>20</td>\n",
       "      <td>44.949504</td>\n",
       "      <td>-93.288223</td>\n",
       "      <td>44.955654</td>\n",
       "      <td>-93.288485</td>\n",
       "      <td>Customer</td>\n",
       "      <td>1969</td>\n",
       "      <td>0</td>\n",
       "      <td>0</td>\n",
       "    </tr>\n",
       "    <tr>\n",
       "      <th>2102</th>\n",
       "      <td>19</td>\n",
       "      <td>44.953550</td>\n",
       "      <td>-93.262590</td>\n",
       "      <td>44.953550</td>\n",
       "      <td>-93.262590</td>\n",
       "      <td>Subscriber</td>\n",
       "      <td>1994</td>\n",
       "      <td>2</td>\n",
       "      <td>3</td>\n",
       "    </tr>\n",
       "    <tr>\n",
       "      <th>66651</th>\n",
       "      <td>16</td>\n",
       "      <td>44.978665</td>\n",
       "      <td>-93.270503</td>\n",
       "      <td>44.989189</td>\n",
       "      <td>-93.276561</td>\n",
       "      <td>Subscriber</td>\n",
       "      <td>1989</td>\n",
       "      <td>1</td>\n",
       "      <td>3</td>\n",
       "    </tr>\n",
       "  </tbody>\n",
       "</table>\n",
       "</div>"
      ],
      "text/plain": [
       "       start_hour  start station latitude  start station longitude  \\\n",
       "45940          20               44.949504               -93.288223   \n",
       "2102           19               44.953550               -93.262590   \n",
       "66651          16               44.978665               -93.270503   \n",
       "\n",
       "       end station latitude  end station longitude    usertype  birth year  \\\n",
       "45940             44.955654             -93.288485    Customer        1969   \n",
       "2102              44.953550             -93.262590  Subscriber        1994   \n",
       "66651             44.989189             -93.276561  Subscriber        1989   \n",
       "\n",
       "       gender  startdayofweek  \n",
       "45940       0               0  \n",
       "2102        2               3  \n",
       "66651       1               3  "
      ]
     },
     "execution_count": 13,
     "metadata": {},
     "output_type": "execute_result"
    }
   ],
   "source": [
    "X = df[['start_hour', 'start station latitude', 'start station longitude', 'end station latitude',\n",
    "        'end station longitude', 'usertype', 'birth year', 'gender', 'startdayofweek', 'bike type']]\n",
    "\n",
    "# Trip dataframe to remove dockless bikes\n",
    "X = X[X['bike type'] == 'Classic']\n",
    "\n",
    "# Remove 'bike type' column\n",
    "X.drop(columns='bike type', inplace=True)\n",
    "\n",
    "X.sample(3)"
   ]
  },
  {
   "cell_type": "code",
   "execution_count": 14,
   "metadata": {},
   "outputs": [],
   "source": [
    "y = df[df['bike type'] == 'Classic'].tripduration"
   ]
  },
  {
   "cell_type": "code",
   "execution_count": 15,
   "metadata": {},
   "outputs": [
    {
     "name": "stdout",
     "output_type": "stream",
     "text": [
      "(49544, 9)\n",
      "(49544,)\n"
     ]
    }
   ],
   "source": [
    "print(X.shape)\n",
    "print(y.shape)"
   ]
  },
  {
   "cell_type": "markdown",
   "metadata": {},
   "source": [
    "## Split the data"
   ]
  },
  {
   "cell_type": "code",
   "execution_count": 21,
   "metadata": {},
   "outputs": [],
   "source": [
    "from sklearn.model_selection import train_test_split\n",
    "\n",
    "X_train, X_test, y_train, y_test = train_test_split(X, y, test_size=.2)"
   ]
  },
  {
   "cell_type": "markdown",
   "metadata": {},
   "source": [
    "## Build the model\n",
    "Use a logistic regression model because its a classification problem"
   ]
  },
  {
   "cell_type": "code",
   "execution_count": 40,
   "metadata": {},
   "outputs": [],
   "source": [
    "from sklearn.linear_model import LogisticRegression\n",
    "from sklearn.linear_model import LinearRegression\n",
    "from sklearn.pipeline import Pipeline\n",
    "from sklearn.compose import ColumnTransformer\n",
    "from sklearn.preprocessing import OneHotEncoder\n",
    "from sklearn.preprocessing import StandardScaler\n",
    "from sklearn.neighbors import KNeighborsClassifier\n",
    "\n",
    "# Find categorical columns\n",
    "categorical_cols = [cname for cname in X.columns if\n",
    "                   X[cname].dtype == 'object']\n",
    "\n",
    "# Preprocessing for categorical data\n",
    "categorical_transformer = Pipeline(steps = [\n",
    "    ('onehot', OneHotEncoder(handle_unknown = 'ignore'))\n",
    "])\n",
    "\n",
    "# Bundle preprocessing for pipeline\n",
    "preprocessor = ColumnTransformer(transformers =[\n",
    "#    ('num', numerical_transformer, numerical_cols), # numerical columns not missing data. May use when trying dockless\n",
    "    ('cat', categorical_transformer, categorical_cols)\n",
    "])\n",
    "\n",
    "# Use Linear Regression\n",
    "model = LinearRegression()\n",
    "\n",
    "# Use Logistic Regression\n",
    "#model = LogisticRegression(max_iter=5000, solver='lbfgs', C=0.05)\n",
    "\n",
    "# Use KNN\n",
    "#model = KNeighborsClassifier(n_neighbors=10)\n",
    "\n",
    "# Construct pipeline\n",
    "my_pipe = Pipeline(steps=[\n",
    "    ('preprocessor', preprocessor), \n",
    "    ('model', model)\n",
    "])\n"
   ]
  },
  {
   "cell_type": "code",
   "execution_count": 41,
   "metadata": {},
   "outputs": [
    {
     "name": "stdout",
     "output_type": "stream",
     "text": [
      "scores are [13.3793828  12.30493506 12.86944695 12.3177362  12.10733067]\n",
      "average score is 12.595766333490907\n"
     ]
    }
   ],
   "source": [
    "from sklearn.model_selection import cross_val_score\n",
    "from sklearn.metrics import mean_squared_error\n",
    "cv_scores = -1*cross_val_score(my_pipe, X, y, cv=5, scoring='neg_mean_absolute_error')\n",
    "\n",
    "print(\"scores are\", cv_scores)\n",
    "print(\"average score is\", cv_scores.mean())"
   ]
  },
  {
   "cell_type": "code",
   "execution_count": null,
   "metadata": {},
   "outputs": [],
   "source": []
  }
 ],
 "metadata": {
  "kernelspec": {
   "display_name": "Python 3",
   "language": "python",
   "name": "python3"
  },
  "language_info": {
   "codemirror_mode": {
    "name": "ipython",
    "version": 3
   },
   "file_extension": ".py",
   "mimetype": "text/x-python",
   "name": "python",
   "nbconvert_exporter": "python",
   "pygments_lexer": "ipython3",
   "version": "3.7.6"
  }
 },
 "nbformat": 4,
 "nbformat_minor": 4
}
